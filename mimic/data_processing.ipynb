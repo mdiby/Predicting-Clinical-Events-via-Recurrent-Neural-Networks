{
 "cells": [
  {
   "cell_type": "code",
   "execution_count": 1,
   "metadata": {
    "collapsed": true
   },
   "outputs": [],
   "source": [
    "import numpy as np\n",
    "import pandas as pd\n",
    "from datetime import date\n",
    "import random as random\n",
    "import cPickle as pickle\n",
    "import matplotlib.pyplot as plt\n",
    "%matplotlib inline"
   ]
  },
  {
   "cell_type": "code",
   "execution_count": 2,
   "metadata": {
    "collapsed": false
   },
   "outputs": [
    {
     "name": "stdout",
     "output_type": "stream",
     "text": [
      "(17053, 4)\n"
     ]
    },
    {
     "data": {
      "text/html": [
       "<div>\n",
       "<table border=\"1\" class=\"dataframe\">\n",
       "  <thead>\n",
       "    <tr style=\"text-align: right;\">\n",
       "      <th></th>\n",
       "      <th>subject_id</th>\n",
       "      <th>hadm_id</th>\n",
       "      <th>admittime</th>\n",
       "      <th>icd9_code</th>\n",
       "    </tr>\n",
       "  </thead>\n",
       "  <tbody>\n",
       "    <tr>\n",
       "      <th>0</th>\n",
       "      <td>17</td>\n",
       "      <td>194023</td>\n",
       "      <td>2134-12-27</td>\n",
       "      <td>7,24,29</td>\n",
       "    </tr>\n",
       "    <tr>\n",
       "      <th>1</th>\n",
       "      <td>17</td>\n",
       "      <td>161087</td>\n",
       "      <td>2135-05-09</td>\n",
       "      <td>7,39,24,46,34,128,163</td>\n",
       "    </tr>\n",
       "    <tr>\n",
       "      <th>2</th>\n",
       "      <td>23</td>\n",
       "      <td>152223</td>\n",
       "      <td>2153-09-03</td>\n",
       "      <td>1,7,8,11,30,74,104</td>\n",
       "    </tr>\n",
       "    <tr>\n",
       "      <th>3</th>\n",
       "      <td>23</td>\n",
       "      <td>124321</td>\n",
       "      <td>2157-10-18</td>\n",
       "      <td>31,60,1,7,11,23,30</td>\n",
       "    </tr>\n",
       "    <tr>\n",
       "      <th>4</th>\n",
       "      <td>34</td>\n",
       "      <td>115799</td>\n",
       "      <td>2186-07-18</td>\n",
       "      <td>106,3,4,8,17,33,37,52</td>\n",
       "    </tr>\n",
       "    <tr>\n",
       "      <th>5</th>\n",
       "      <td>34</td>\n",
       "      <td>144319</td>\n",
       "      <td>2191-02-23</td>\n",
       "      <td>3,4,8,14,21,106,141</td>\n",
       "    </tr>\n",
       "    <tr>\n",
       "      <th>6</th>\n",
       "      <td>36</td>\n",
       "      <td>182104</td>\n",
       "      <td>2131-04-30</td>\n",
       "      <td>15,18,27,32,74,104,154,1,8</td>\n",
       "    </tr>\n",
       "    <tr>\n",
       "      <th>7</th>\n",
       "      <td>36</td>\n",
       "      <td>122659</td>\n",
       "      <td>2131-05-12</td>\n",
       "      <td>1,8,11,15,18,19,26,27,74,78,124</td>\n",
       "    </tr>\n",
       "    <tr>\n",
       "      <th>8</th>\n",
       "      <td>36</td>\n",
       "      <td>165660</td>\n",
       "      <td>2134-05-10</td>\n",
       "      <td>1,8,9,18,27,28,33,49,74,114,124</td>\n",
       "    </tr>\n",
       "    <tr>\n",
       "      <th>9</th>\n",
       "      <td>68</td>\n",
       "      <td>170467</td>\n",
       "      <td>2173-12-15</td>\n",
       "      <td>3,5,6,10,12,28,52,89,111,149</td>\n",
       "    </tr>\n",
       "  </tbody>\n",
       "</table>\n",
       "</div>"
      ],
      "text/plain": [
       "   subject_id  hadm_id   admittime                        icd9_code\n",
       "0          17   194023  2134-12-27                          7,24,29\n",
       "1          17   161087  2135-05-09            7,39,24,46,34,128,163\n",
       "2          23   152223  2153-09-03               1,7,8,11,30,74,104\n",
       "3          23   124321  2157-10-18               31,60,1,7,11,23,30\n",
       "4          34   115799  2186-07-18            106,3,4,8,17,33,37,52\n",
       "5          34   144319  2191-02-23              3,4,8,14,21,106,141\n",
       "6          36   182104  2131-04-30       15,18,27,32,74,104,154,1,8\n",
       "7          36   122659  2131-05-12  1,8,11,15,18,19,26,27,74,78,124\n",
       "8          36   165660  2134-05-10  1,8,9,18,27,28,33,49,74,114,124\n",
       "9          68   170467  2173-12-15     3,5,6,10,12,28,52,89,111,149"
      ]
     },
     "execution_count": 2,
     "metadata": {},
     "output_type": "execute_result"
    }
   ],
   "source": [
    "data = pd.read_csv('PATIENT_VISIT_182.csv',sep=',')\n",
    "print data.shape\n",
    "data.head(10)"
   ]
  },
  {
   "cell_type": "code",
   "execution_count": 3,
   "metadata": {
    "collapsed": false
   },
   "outputs": [
    {
     "data": {
      "text/html": [
       "<div>\n",
       "<table border=\"1\" class=\"dataframe\">\n",
       "  <thead>\n",
       "    <tr style=\"text-align: right;\">\n",
       "      <th></th>\n",
       "      <th>subject_id</th>\n",
       "      <th>hadm_id</th>\n",
       "      <th>admittime</th>\n",
       "      <th>icd9_code</th>\n",
       "      <th>date</th>\n",
       "      <th>icd9</th>\n",
       "      <th>deltatime</th>\n",
       "    </tr>\n",
       "  </thead>\n",
       "  <tbody>\n",
       "    <tr>\n",
       "      <th>0</th>\n",
       "      <td>17</td>\n",
       "      <td>194023</td>\n",
       "      <td>2134-12-27</td>\n",
       "      <td>7,24,29</td>\n",
       "      <td>[2134, 12, 27]</td>\n",
       "      <td>[7, 24, 29]</td>\n",
       "      <td>0</td>\n",
       "    </tr>\n",
       "    <tr>\n",
       "      <th>1</th>\n",
       "      <td>17</td>\n",
       "      <td>161087</td>\n",
       "      <td>2135-05-09</td>\n",
       "      <td>7,39,24,46,34,128,163</td>\n",
       "      <td>[2135, 5, 9]</td>\n",
       "      <td>[7, 39, 24, 46, 34, 128, 163]</td>\n",
       "      <td>0</td>\n",
       "    </tr>\n",
       "    <tr>\n",
       "      <th>2</th>\n",
       "      <td>23</td>\n",
       "      <td>152223</td>\n",
       "      <td>2153-09-03</td>\n",
       "      <td>1,7,8,11,30,74,104</td>\n",
       "      <td>[2153, 9, 3]</td>\n",
       "      <td>[1, 7, 8, 11, 30, 74, 104]</td>\n",
       "      <td>0</td>\n",
       "    </tr>\n",
       "    <tr>\n",
       "      <th>3</th>\n",
       "      <td>23</td>\n",
       "      <td>124321</td>\n",
       "      <td>2157-10-18</td>\n",
       "      <td>31,60,1,7,11,23,30</td>\n",
       "      <td>[2157, 10, 18]</td>\n",
       "      <td>[31, 60, 1, 7, 11, 23, 30]</td>\n",
       "      <td>0</td>\n",
       "    </tr>\n",
       "    <tr>\n",
       "      <th>4</th>\n",
       "      <td>34</td>\n",
       "      <td>115799</td>\n",
       "      <td>2186-07-18</td>\n",
       "      <td>106,3,4,8,17,33,37,52</td>\n",
       "      <td>[2186, 7, 18]</td>\n",
       "      <td>[106, 3, 4, 8, 17, 33, 37, 52]</td>\n",
       "      <td>0</td>\n",
       "    </tr>\n",
       "    <tr>\n",
       "      <th>5</th>\n",
       "      <td>34</td>\n",
       "      <td>144319</td>\n",
       "      <td>2191-02-23</td>\n",
       "      <td>3,4,8,14,21,106,141</td>\n",
       "      <td>[2191, 2, 23]</td>\n",
       "      <td>[3, 4, 8, 14, 21, 106, 141]</td>\n",
       "      <td>0</td>\n",
       "    </tr>\n",
       "    <tr>\n",
       "      <th>6</th>\n",
       "      <td>36</td>\n",
       "      <td>182104</td>\n",
       "      <td>2131-04-30</td>\n",
       "      <td>15,18,27,32,74,104,154,1,8</td>\n",
       "      <td>[2131, 4, 30]</td>\n",
       "      <td>[15, 18, 27, 32, 74, 104, 154, 1, 8]</td>\n",
       "      <td>0</td>\n",
       "    </tr>\n",
       "    <tr>\n",
       "      <th>7</th>\n",
       "      <td>36</td>\n",
       "      <td>122659</td>\n",
       "      <td>2131-05-12</td>\n",
       "      <td>1,8,11,15,18,19,26,27,74,78,124</td>\n",
       "      <td>[2131, 5, 12]</td>\n",
       "      <td>[1, 8, 11, 15, 18, 19, 26, 27, 74, 78, 124]</td>\n",
       "      <td>0</td>\n",
       "    </tr>\n",
       "    <tr>\n",
       "      <th>8</th>\n",
       "      <td>36</td>\n",
       "      <td>165660</td>\n",
       "      <td>2134-05-10</td>\n",
       "      <td>1,8,9,18,27,28,33,49,74,114,124</td>\n",
       "      <td>[2134, 5, 10]</td>\n",
       "      <td>[1, 8, 9, 18, 27, 28, 33, 49, 74, 114, 124]</td>\n",
       "      <td>0</td>\n",
       "    </tr>\n",
       "    <tr>\n",
       "      <th>9</th>\n",
       "      <td>68</td>\n",
       "      <td>170467</td>\n",
       "      <td>2173-12-15</td>\n",
       "      <td>3,5,6,10,12,28,52,89,111,149</td>\n",
       "      <td>[2173, 12, 15]</td>\n",
       "      <td>[3, 5, 6, 10, 12, 28, 52, 89, 111, 149]</td>\n",
       "      <td>0</td>\n",
       "    </tr>\n",
       "  </tbody>\n",
       "</table>\n",
       "</div>"
      ],
      "text/plain": [
       "   subject_id  hadm_id   admittime                        icd9_code  \\\n",
       "0          17   194023  2134-12-27                          7,24,29   \n",
       "1          17   161087  2135-05-09            7,39,24,46,34,128,163   \n",
       "2          23   152223  2153-09-03               1,7,8,11,30,74,104   \n",
       "3          23   124321  2157-10-18               31,60,1,7,11,23,30   \n",
       "4          34   115799  2186-07-18            106,3,4,8,17,33,37,52   \n",
       "5          34   144319  2191-02-23              3,4,8,14,21,106,141   \n",
       "6          36   182104  2131-04-30       15,18,27,32,74,104,154,1,8   \n",
       "7          36   122659  2131-05-12  1,8,11,15,18,19,26,27,74,78,124   \n",
       "8          36   165660  2134-05-10  1,8,9,18,27,28,33,49,74,114,124   \n",
       "9          68   170467  2173-12-15     3,5,6,10,12,28,52,89,111,149   \n",
       "\n",
       "             date                                         icd9  deltatime  \n",
       "0  [2134, 12, 27]                                  [7, 24, 29]          0  \n",
       "1    [2135, 5, 9]                [7, 39, 24, 46, 34, 128, 163]          0  \n",
       "2    [2153, 9, 3]                   [1, 7, 8, 11, 30, 74, 104]          0  \n",
       "3  [2157, 10, 18]                   [31, 60, 1, 7, 11, 23, 30]          0  \n",
       "4   [2186, 7, 18]               [106, 3, 4, 8, 17, 33, 37, 52]          0  \n",
       "5   [2191, 2, 23]                  [3, 4, 8, 14, 21, 106, 141]          0  \n",
       "6   [2131, 4, 30]         [15, 18, 27, 32, 74, 104, 154, 1, 8]          0  \n",
       "7   [2131, 5, 12]  [1, 8, 11, 15, 18, 19, 26, 27, 74, 78, 124]          0  \n",
       "8   [2134, 5, 10]  [1, 8, 9, 18, 27, 28, 33, 49, 74, 114, 124]          0  \n",
       "9  [2173, 12, 15]      [3, 5, 6, 10, 12, 28, 52, 89, 111, 149]          0  "
      ]
     },
     "execution_count": 3,
     "metadata": {},
     "output_type": "execute_result"
    }
   ],
   "source": [
    "data['date']=map(lambda x:map(int,x.split('-')),data.admittime)\n",
    "data['icd9']=map(lambda x:map(int,x.split(',')),data.icd9_code)\n",
    "data['deltatime']=np.zeros(data.shape[0]).astype(int)\n",
    "data.head(10)"
   ]
  },
  {
   "cell_type": "code",
   "execution_count": 4,
   "metadata": {
    "collapsed": false
   },
   "outputs": [
    {
     "data": {
      "text/html": [
       "<div>\n",
       "<table border=\"1\" class=\"dataframe\">\n",
       "  <thead>\n",
       "    <tr style=\"text-align: right;\">\n",
       "      <th></th>\n",
       "      <th>subject_id</th>\n",
       "      <th>hadm_id</th>\n",
       "      <th>admittime</th>\n",
       "      <th>icd9_code</th>\n",
       "      <th>date</th>\n",
       "      <th>icd9</th>\n",
       "      <th>deltatime</th>\n",
       "    </tr>\n",
       "  </thead>\n",
       "  <tbody>\n",
       "    <tr>\n",
       "      <th>0</th>\n",
       "      <td>17</td>\n",
       "      <td>194023</td>\n",
       "      <td>2134-12-27</td>\n",
       "      <td>7,24,29</td>\n",
       "      <td>[2134, 12, 27]</td>\n",
       "      <td>[7, 24, 29]</td>\n",
       "      <td>0</td>\n",
       "    </tr>\n",
       "    <tr>\n",
       "      <th>1</th>\n",
       "      <td>17</td>\n",
       "      <td>161087</td>\n",
       "      <td>2135-05-09</td>\n",
       "      <td>7,39,24,46,34,128,163</td>\n",
       "      <td>[2135, 5, 9]</td>\n",
       "      <td>[7, 39, 24, 46, 34, 128, 163]</td>\n",
       "      <td>133</td>\n",
       "    </tr>\n",
       "    <tr>\n",
       "      <th>2</th>\n",
       "      <td>23</td>\n",
       "      <td>152223</td>\n",
       "      <td>2153-09-03</td>\n",
       "      <td>1,7,8,11,30,74,104</td>\n",
       "      <td>[2153, 9, 3]</td>\n",
       "      <td>[1, 7, 8, 11, 30, 74, 104]</td>\n",
       "      <td>0</td>\n",
       "    </tr>\n",
       "    <tr>\n",
       "      <th>3</th>\n",
       "      <td>23</td>\n",
       "      <td>124321</td>\n",
       "      <td>2157-10-18</td>\n",
       "      <td>31,60,1,7,11,23,30</td>\n",
       "      <td>[2157, 10, 18]</td>\n",
       "      <td>[31, 60, 1, 7, 11, 23, 30]</td>\n",
       "      <td>1506</td>\n",
       "    </tr>\n",
       "    <tr>\n",
       "      <th>4</th>\n",
       "      <td>34</td>\n",
       "      <td>115799</td>\n",
       "      <td>2186-07-18</td>\n",
       "      <td>106,3,4,8,17,33,37,52</td>\n",
       "      <td>[2186, 7, 18]</td>\n",
       "      <td>[106, 3, 4, 8, 17, 33, 37, 52]</td>\n",
       "      <td>0</td>\n",
       "    </tr>\n",
       "    <tr>\n",
       "      <th>5</th>\n",
       "      <td>34</td>\n",
       "      <td>144319</td>\n",
       "      <td>2191-02-23</td>\n",
       "      <td>3,4,8,14,21,106,141</td>\n",
       "      <td>[2191, 2, 23]</td>\n",
       "      <td>[3, 4, 8, 14, 21, 106, 141]</td>\n",
       "      <td>1681</td>\n",
       "    </tr>\n",
       "    <tr>\n",
       "      <th>6</th>\n",
       "      <td>36</td>\n",
       "      <td>182104</td>\n",
       "      <td>2131-04-30</td>\n",
       "      <td>15,18,27,32,74,104,154,1,8</td>\n",
       "      <td>[2131, 4, 30]</td>\n",
       "      <td>[15, 18, 27, 32, 74, 104, 154, 1, 8]</td>\n",
       "      <td>0</td>\n",
       "    </tr>\n",
       "    <tr>\n",
       "      <th>7</th>\n",
       "      <td>36</td>\n",
       "      <td>122659</td>\n",
       "      <td>2131-05-12</td>\n",
       "      <td>1,8,11,15,18,19,26,27,74,78,124</td>\n",
       "      <td>[2131, 5, 12]</td>\n",
       "      <td>[1, 8, 11, 15, 18, 19, 26, 27, 74, 78, 124]</td>\n",
       "      <td>12</td>\n",
       "    </tr>\n",
       "    <tr>\n",
       "      <th>8</th>\n",
       "      <td>36</td>\n",
       "      <td>165660</td>\n",
       "      <td>2134-05-10</td>\n",
       "      <td>1,8,9,18,27,28,33,49,74,114,124</td>\n",
       "      <td>[2134, 5, 10]</td>\n",
       "      <td>[1, 8, 9, 18, 27, 28, 33, 49, 74, 114, 124]</td>\n",
       "      <td>1094</td>\n",
       "    </tr>\n",
       "    <tr>\n",
       "      <th>9</th>\n",
       "      <td>68</td>\n",
       "      <td>170467</td>\n",
       "      <td>2173-12-15</td>\n",
       "      <td>3,5,6,10,12,28,52,89,111,149</td>\n",
       "      <td>[2173, 12, 15]</td>\n",
       "      <td>[3, 5, 6, 10, 12, 28, 52, 89, 111, 149]</td>\n",
       "      <td>0</td>\n",
       "    </tr>\n",
       "  </tbody>\n",
       "</table>\n",
       "</div>"
      ],
      "text/plain": [
       "   subject_id  hadm_id   admittime                        icd9_code  \\\n",
       "0          17   194023  2134-12-27                          7,24,29   \n",
       "1          17   161087  2135-05-09            7,39,24,46,34,128,163   \n",
       "2          23   152223  2153-09-03               1,7,8,11,30,74,104   \n",
       "3          23   124321  2157-10-18               31,60,1,7,11,23,30   \n",
       "4          34   115799  2186-07-18            106,3,4,8,17,33,37,52   \n",
       "5          34   144319  2191-02-23              3,4,8,14,21,106,141   \n",
       "6          36   182104  2131-04-30       15,18,27,32,74,104,154,1,8   \n",
       "7          36   122659  2131-05-12  1,8,11,15,18,19,26,27,74,78,124   \n",
       "8          36   165660  2134-05-10  1,8,9,18,27,28,33,49,74,114,124   \n",
       "9          68   170467  2173-12-15     3,5,6,10,12,28,52,89,111,149   \n",
       "\n",
       "             date                                         icd9  deltatime  \n",
       "0  [2134, 12, 27]                                  [7, 24, 29]          0  \n",
       "1    [2135, 5, 9]                [7, 39, 24, 46, 34, 128, 163]        133  \n",
       "2    [2153, 9, 3]                   [1, 7, 8, 11, 30, 74, 104]          0  \n",
       "3  [2157, 10, 18]                   [31, 60, 1, 7, 11, 23, 30]       1506  \n",
       "4   [2186, 7, 18]               [106, 3, 4, 8, 17, 33, 37, 52]          0  \n",
       "5   [2191, 2, 23]                  [3, 4, 8, 14, 21, 106, 141]       1681  \n",
       "6   [2131, 4, 30]         [15, 18, 27, 32, 74, 104, 154, 1, 8]          0  \n",
       "7   [2131, 5, 12]  [1, 8, 11, 15, 18, 19, 26, 27, 74, 78, 124]         12  \n",
       "8   [2134, 5, 10]  [1, 8, 9, 18, 27, 28, 33, 49, 74, 114, 124]       1094  \n",
       "9  [2173, 12, 15]      [3, 5, 6, 10, 12, 28, 52, 89, 111, 149]          0  "
      ]
     },
     "execution_count": 4,
     "metadata": {},
     "output_type": "execute_result"
    }
   ],
   "source": [
    "# calculate time\n",
    "p = -1 # patient's subject id\n",
    "\n",
    "for i in range(data.shape[0]):\n",
    "    if data['subject_id'][i] != p: # new patient\n",
    "        p = data['subject_id'][i]\n",
    "    else:\n",
    "        y,m,d = data['date'][i]\n",
    "        y0,m0,d0 = data['date'][i-1]\n",
    "        data.loc[i,'deltatime'] = (date(y,m,d)-date(y0,m0,d0)).days\n",
    "        \n",
    "data.head(10)"
   ]
  },
  {
   "cell_type": "code",
   "execution_count": 5,
   "metadata": {
    "collapsed": false
   },
   "outputs": [],
   "source": [
    "visit_file = [] # icd9 code\n",
    "patient_id = [] # patient id\n",
    "admission_id = [] # admission id \n",
    "duration = [] # duration\n",
    "\n",
    "p_id = -1 # patient's subject id\n",
    "\n",
    "for i in range(data.shape[0]):\n",
    "    # new patient\n",
    "    if data['subject_id'][i] != p_id:\n",
    "        # for previous patient, add visits to visit_file\n",
    "        if p_id != -1:\n",
    "            visit_file.append(visits)\n",
    "            admission_id.append(ad_id)\n",
    "            duration.append(t)\n",
    "            \n",
    "        p_id = data['subject_id'][i]\n",
    "        patient_id.append(p_id)\n",
    "        \n",
    "        visits = [map(lambda x:x-1,data['icd9'][i])]\n",
    "        ad_id = [data['hadm_id'][i]]\n",
    "        t = [data['deltatime'][i]]\n",
    "        \n",
    "    # same patient\n",
    "    else: \n",
    "        visits.append(map(lambda x:x-1,data['icd9'][i]))\n",
    "        ad_id.append(data['hadm_id'][i])\n",
    "        t.append(data['deltatime'][i])\n",
    "        \n",
    "# add the last patient's visit        \n",
    "visit_file.append(visits)\n",
    "admission_id.append(ad_id)\n",
    "duration.append(t)"
   ]
  },
  {
   "cell_type": "code",
   "execution_count": 6,
   "metadata": {
    "collapsed": false,
    "scrolled": false
   },
   "outputs": [
    {
     "name": "stdout",
     "output_type": "stream",
     "text": [
      "6346\n",
      "6346\n",
      "[[[6, 23, 28], [6, 38, 23, 45, 33, 127, 162]], [[0, 6, 7, 10, 29, 73, 103], [30, 59, 0, 6, 10, 22, 29]]]\n",
      "[[194023, 161087], [152223, 124321]]\n",
      "[[0, 133], [0, 1506]]\n",
      "[17, 23]\n"
     ]
    }
   ],
   "source": [
    "print len(np.unique(data['subject_id']))\n",
    "print len(visit_file)\n",
    "print visit_file[0:2]\n",
    "print admission_id[0:2]\n",
    "print duration[0:2]\n",
    "print patient_id[0:2]"
   ]
  },
  {
   "cell_type": "code",
   "execution_count": 7,
   "metadata": {
    "collapsed": false,
    "scrolled": false
   },
   "outputs": [
    {
     "name": "stdout",
     "output_type": "stream",
     "text": [
      "[[0, 4061], [4061, 4568], [4568, 5076]]\n",
      "[5076, 6346]\n"
     ]
    }
   ],
   "source": [
    "pNum = len(visit_file)\n",
    "title = ['train','valid','test']\n",
    "proportion = [0.8,0.1,0.1]\n",
    "train_test_proportion = 0.8\n",
    "\n",
    "# generate random index for train, valid, test set\n",
    "random.seed(10000)\n",
    "random_index = random.sample(range(pNum),pNum)\n",
    "\n",
    "# divide dataset into train, valid, test set for training data\n",
    "trainingNum_index = []\n",
    "trainingNum_index.append([0,int(pNum*train_test_proportion*proportion[0])]) # train\n",
    "trainingNum_index.append([trainingNum_index[0][1],\\\n",
    "                          trainingNum_index[0][1]+\\\n",
    "                          int(pNum*train_test_proportion*proportion[1])]) # valid\n",
    "trainingNum_index.append([trainingNum_index[1][1],\\\n",
    "                          int(pNum*train_test_proportion)]) # test\n",
    "\n",
    "# test dataset\n",
    "testNum_index = [int(pNum*train_test_proportion),pNum]\n",
    "print trainingNum_index\n",
    "print testNum_index"
   ]
  },
  {
   "cell_type": "code",
   "execution_count": 8,
   "metadata": {
    "collapsed": false
   },
   "outputs": [
    {
     "name": "stdout",
     "output_type": "stream",
     "text": [
      "1270\n"
     ]
    }
   ],
   "source": [
    "# generate train, valid, test visit/label/duration files\n",
    "# visit file is the same as label file\n",
    "for t in range(3):\n",
    "    indexRange = trainingNum_index[t]\n",
    "    f_tmp = [] # visit/label data\n",
    "    d_tmp = [] # duration data\n",
    "    for i in range(indexRange[0],indexRange[1]):\n",
    "        f_tmp.append(visit_file[random_index[i]])\n",
    "        d_tmp.append(duration[random_index[i]])\n",
    "    pickle.dump(f_tmp,open('../data/visit_182.'+ title[t],'wr'))\n",
    "    pickle.dump(f_tmp,open('../data/label_182.'+ title[t],'wr'))\n",
    "    pickle.dump(d_tmp,open('../data/duration.'+ title[t],'wr'))\n",
    "\n",
    "# test dataset\n",
    "indexRange = testNum_index\n",
    "f_tmp = [] # visit/label data\n",
    "d_tmp = [] # duration data\n",
    "for i in range(indexRange[0],indexRange[1]):\n",
    "    f_tmp.append(visit_file[random_index[i]])\n",
    "    d_tmp.append(duration[random_index[i]])\n",
    "pickle.dump(f_tmp,open('../data/test_182','wr'))\n",
    "pickle.dump(d_tmp,open('../data/test_duration','wr'))\n",
    "print len(f_tmp)"
   ]
  },
  {
   "cell_type": "code",
   "execution_count": 9,
   "metadata": {
    "collapsed": false
   },
   "outputs": [
    {
     "name": "stdout",
     "output_type": "stream",
     "text": [
      "[0, 5076]\n",
      "5076\n"
     ]
    }
   ],
   "source": [
    "# generate full set of training data\n",
    "indexRange = [trainingNum_index[0][0],trainingNum_index[2][1]]\n",
    "print indexRange\n",
    "f_tmp = [] # visit/label data\n",
    "d_tmp = [] # duration data\n",
    "for i in range(indexRange[0],indexRange[1]):\n",
    "    f_tmp.append(visit_file[random_index[i]])\n",
    "    d_tmp.append(duration[random_index[i]])\n",
    "pickle.dump(f_tmp,open('../data/visit_182','wr'))\n",
    "pickle.dump(d_tmp,open('../data/train_duration','wr'))\n",
    "print len(f_tmp)"
   ]
  },
  {
   "cell_type": "code",
   "execution_count": 10,
   "metadata": {
    "collapsed": false
   },
   "outputs": [],
   "source": [
    "# get visit file (e.g. data in 'icd9') according to admission_id\n",
    "def getVisitFile(data,admission_id,column = 'icd9'):\n",
    "    visit_file = []\n",
    "    p_id = 0\n",
    "    v_id = 0\n",
    "    index = -1\n",
    "\n",
    "    for adm in data['hadm_id']:\n",
    "        index += 1\n",
    "\n",
    "        if v_id == 0 and admission_id[p_id][v_id] == adm:\n",
    "            visits = [map(lambda x:x-1,data.loc[index,column])]\n",
    "        elif admission_id[p_id][v_id] == adm:\n",
    "            visits.append(map(lambda x:x-1, data.loc[index,column]))\n",
    "        else:\n",
    "            continue\n",
    "\n",
    "        if v_id == len(admission_id[p_id])-1:\n",
    "            p_id += 1\n",
    "            v_id = 0\n",
    "            visit_file.append(visits)\n",
    "        else:\n",
    "            v_id += 1\n",
    "    return visit_file\n",
    "\n",
    "def outputFile(visit_file,trainingNum_index,testNum_index,file_name):\n",
    "    # generate train, valid, test visit/label/duration files\n",
    "    # visit file is the same as label file\n",
    "    for t in range(3):\n",
    "        indexRange = trainingNum_index[t]\n",
    "        f_tmp = [] # visit/label data\n",
    "        d_tmp = [] # duration data\n",
    "        for i in range(indexRange[0],indexRange[1]):\n",
    "            f_tmp.append(visit_file[random_index[i]])\n",
    "        pickle.dump(f_tmp,open('../data/visit_'+ file_name +\\\n",
    "                               '.'+ title[t],'wr'))\n",
    "        pickle.dump(f_tmp,open('../data/label_'+ file_name +\\\n",
    "                               '.'+ title[t],'wr'))\n",
    "\n",
    "    # test dataset\n",
    "    indexRange = testNum_index\n",
    "    f_tmp = [] # visit/label data\n",
    "    d_tmp = [] # duration data\n",
    "    for i in range(indexRange[0],indexRange[1]):\n",
    "        f_tmp.append(visit_file[random_index[i]])\n",
    "    pickle.dump(f_tmp,open('../data/test_'+ file_name,'wr'))\n"
   ]
  },
  {
   "cell_type": "code",
   "execution_count": 11,
   "metadata": {
    "collapsed": false
   },
   "outputs": [
    {
     "name": "stdout",
     "output_type": "stream",
     "text": [
      "(17130, 5)\n"
     ]
    },
    {
     "data": {
      "text/html": [
       "<div>\n",
       "<table border=\"1\" class=\"dataframe\">\n",
       "  <thead>\n",
       "    <tr style=\"text-align: right;\">\n",
       "      <th></th>\n",
       "      <th>subject_id</th>\n",
       "      <th>hadm_id</th>\n",
       "      <th>admittime</th>\n",
       "      <th>icd9_code</th>\n",
       "      <th>icd9</th>\n",
       "    </tr>\n",
       "  </thead>\n",
       "  <tbody>\n",
       "    <tr>\n",
       "      <th>0</th>\n",
       "      <td>17</td>\n",
       "      <td>194023</td>\n",
       "      <td>2134-12-27</td>\n",
       "      <td>7,24,29,187</td>\n",
       "      <td>[7, 24, 29, 187]</td>\n",
       "    </tr>\n",
       "    <tr>\n",
       "      <th>1</th>\n",
       "      <td>17</td>\n",
       "      <td>161087</td>\n",
       "      <td>2135-05-09</td>\n",
       "      <td>24,197,39,46,7,34,128,163</td>\n",
       "      <td>[24, 197, 39, 46, 7, 34, 128, 163]</td>\n",
       "    </tr>\n",
       "    <tr>\n",
       "      <th>2</th>\n",
       "      <td>23</td>\n",
       "      <td>152223</td>\n",
       "      <td>2153-09-03</td>\n",
       "      <td>1,7,8,11,30,74,104,260</td>\n",
       "      <td>[1, 7, 8, 11, 30, 74, 104, 260]</td>\n",
       "    </tr>\n",
       "    <tr>\n",
       "      <th>3</th>\n",
       "      <td>23</td>\n",
       "      <td>124321</td>\n",
       "      <td>2157-10-18</td>\n",
       "      <td>23,30,31,60,264,1,7,11</td>\n",
       "      <td>[23, 30, 31, 60, 264, 1, 7, 11]</td>\n",
       "    </tr>\n",
       "    <tr>\n",
       "      <th>4</th>\n",
       "      <td>34</td>\n",
       "      <td>115799</td>\n",
       "      <td>2186-07-18</td>\n",
       "      <td>17,33,37,52,106,3,4,8</td>\n",
       "      <td>[17, 33, 37, 52, 106, 3, 4, 8]</td>\n",
       "    </tr>\n",
       "    <tr>\n",
       "      <th>5</th>\n",
       "      <td>34</td>\n",
       "      <td>144319</td>\n",
       "      <td>2191-02-23</td>\n",
       "      <td>3,4,8,14,21,106,141</td>\n",
       "      <td>[3, 4, 8, 14, 21, 106, 141]</td>\n",
       "    </tr>\n",
       "    <tr>\n",
       "      <th>6</th>\n",
       "      <td>36</td>\n",
       "      <td>182104</td>\n",
       "      <td>2131-04-30</td>\n",
       "      <td>1,8,15,18,27,32,74,104,154</td>\n",
       "      <td>[1, 8, 15, 18, 27, 32, 74, 104, 154]</td>\n",
       "    </tr>\n",
       "    <tr>\n",
       "      <th>7</th>\n",
       "      <td>36</td>\n",
       "      <td>122659</td>\n",
       "      <td>2131-05-12</td>\n",
       "      <td>1,8,11,15,18,19,26,27,74,78,124</td>\n",
       "      <td>[1, 8, 11, 15, 18, 19, 26, 27, 74, 78, 124]</td>\n",
       "    </tr>\n",
       "    <tr>\n",
       "      <th>8</th>\n",
       "      <td>36</td>\n",
       "      <td>165660</td>\n",
       "      <td>2134-05-10</td>\n",
       "      <td>114,124,1,8,9,18,27,28,33,49,74</td>\n",
       "      <td>[114, 124, 1, 8, 9, 18, 27, 28, 33, 49, 74]</td>\n",
       "    </tr>\n",
       "    <tr>\n",
       "      <th>9</th>\n",
       "      <td>68</td>\n",
       "      <td>170467</td>\n",
       "      <td>2173-12-15</td>\n",
       "      <td>3,5,6,10,12,28,52,89,111,149,312,354</td>\n",
       "      <td>[3, 5, 6, 10, 12, 28, 52, 89, 111, 149, 312, 354]</td>\n",
       "    </tr>\n",
       "  </tbody>\n",
       "</table>\n",
       "</div>"
      ],
      "text/plain": [
       "   subject_id  hadm_id   admittime                             icd9_code  \\\n",
       "0          17   194023  2134-12-27                           7,24,29,187   \n",
       "1          17   161087  2135-05-09             24,197,39,46,7,34,128,163   \n",
       "2          23   152223  2153-09-03                1,7,8,11,30,74,104,260   \n",
       "3          23   124321  2157-10-18                23,30,31,60,264,1,7,11   \n",
       "4          34   115799  2186-07-18                 17,33,37,52,106,3,4,8   \n",
       "5          34   144319  2191-02-23                   3,4,8,14,21,106,141   \n",
       "6          36   182104  2131-04-30            1,8,15,18,27,32,74,104,154   \n",
       "7          36   122659  2131-05-12       1,8,11,15,18,19,26,27,74,78,124   \n",
       "8          36   165660  2134-05-10       114,124,1,8,9,18,27,28,33,49,74   \n",
       "9          68   170467  2173-12-15  3,5,6,10,12,28,52,89,111,149,312,354   \n",
       "\n",
       "                                                icd9  \n",
       "0                                   [7, 24, 29, 187]  \n",
       "1                 [24, 197, 39, 46, 7, 34, 128, 163]  \n",
       "2                    [1, 7, 8, 11, 30, 74, 104, 260]  \n",
       "3                    [23, 30, 31, 60, 264, 1, 7, 11]  \n",
       "4                     [17, 33, 37, 52, 106, 3, 4, 8]  \n",
       "5                        [3, 4, 8, 14, 21, 106, 141]  \n",
       "6               [1, 8, 15, 18, 27, 32, 74, 104, 154]  \n",
       "7        [1, 8, 11, 15, 18, 19, 26, 27, 74, 78, 124]  \n",
       "8        [114, 124, 1, 8, 9, 18, 27, 28, 33, 49, 74]  \n",
       "9  [3, 5, 6, 10, 12, 28, 52, 89, 111, 149, 312, 354]  "
      ]
     },
     "execution_count": 11,
     "metadata": {},
     "output_type": "execute_result"
    }
   ],
   "source": [
    "# visits with full set of codes\n",
    "data_full = pd.read_csv('PATIENT_VISIT_FULL.csv',sep=',')\n",
    "data_full['icd9']=map(lambda x:map(int,x.split(',')),data_full.icd9_code)\n",
    "print data_full.shape\n",
    "data_full.head(10)"
   ]
  },
  {
   "cell_type": "code",
   "execution_count": 12,
   "metadata": {
    "collapsed": true
   },
   "outputs": [],
   "source": [
    "visit_file_full = getVisitFile(data_full,admission_id)"
   ]
  },
  {
   "cell_type": "code",
   "execution_count": 26,
   "metadata": {
    "collapsed": false
   },
   "outputs": [
    {
     "name": "stdout",
     "output_type": "stream",
     "text": [
      "[[0, 3248], [3248, 3654], [3654, 4060]]\n",
      "[4060, 5076]\n",
      "1016\n",
      "1016\n"
     ]
    }
   ],
   "source": [
    "################ skip this step when not generating cv files ################\n",
    "# generate train, valid, test visit/label files for rnn cross validation\n",
    "# visit file is the same as label file\n",
    "K_FOLD = 2\n",
    "training_size = int(pNum*train_test_proportion)\n",
    "\n",
    "# divide dataset into train, valid, test set for training data\n",
    "trainingNum_index = []\n",
    "trainingNum_index.append([0,int(training_size*train_test_proportion*\\\n",
    "                                proportion[0])]) # train\n",
    "trainingNum_index.append([trainingNum_index[0][1],\\\n",
    "                          trainingNum_index[0][1]+\\\n",
    "                          int(training_size*train_test_proportion*\\\n",
    "                              proportion[1])]) # valid\n",
    "trainingNum_index.append([trainingNum_index[1][1],\\\n",
    "                          int(training_size*train_test_proportion)]) # test\n",
    "\n",
    "# test dataset\n",
    "testNum_index = [int(training_size*train_test_proportion),training_size]\n",
    "\n",
    "print trainingNum_index\n",
    "print testNum_index\n",
    "\n",
    "# fold 1\n",
    "for t in range(3):\n",
    "    indexRange = trainingNum_index[t]\n",
    "    f_tmp = [] # visit/label data\n",
    "    for i in range(indexRange[0],indexRange[1]):\n",
    "        f_tmp.append(visit_file_full[random_index[i]])\n",
    "    pickle.dump(f_tmp,open('../data/rnn-cv/visit_cv_1.'+ title[t],'wr'))\n",
    "    pickle.dump(f_tmp,open('../data/rnn-cv/label_cv_1.'+ title[t],'wr'))\n",
    "\n",
    "# test dataset\n",
    "indexRange = testNum_index\n",
    "f_tmp = [] # visit/label data\n",
    "for i in range(indexRange[0],indexRange[1]):\n",
    "    f_tmp.append(visit_file[random_index[i]])\n",
    "pickle.dump(f_tmp,open('../data/rnn-cv/test_cv_1','wr'))\n",
    "print len(f_tmp)\n",
    "\n",
    "# fold 2\n",
    "for t in range(3):\n",
    "    indexRange = trainingNum_index[t]\n",
    "    f_tmp = [] # visit/label data\n",
    "    for i in range(indexRange[0],indexRange[1]):\n",
    "        f_tmp.append(visit_file_full[random_index[::-1][i]])\n",
    "    pickle.dump(f_tmp,open('../data/rnn-cv/visit_cv_2.'+ title[t],'wr'))\n",
    "    pickle.dump(f_tmp,open('../data/rnn-cv/label_cv_2.'+ title[t],'wr'))\n",
    "\n",
    "# test dataset\n",
    "indexRange = testNum_index\n",
    "f_tmp = [] # visit/label data\n",
    "for i in range(indexRange[0],indexRange[1]):\n",
    "    f_tmp.append(visit_file[random_index[::-1][i]])\n",
    "pickle.dump(f_tmp,open('../data/rnn-cv/test_cv_2','wr'))\n",
    "print len(f_tmp)"
   ]
  },
  {
   "cell_type": "code",
   "execution_count": 13,
   "metadata": {
    "collapsed": false
   },
   "outputs": [
    {
     "name": "stdout",
     "output_type": "stream",
     "text": [
      "6346 17053\n",
      "6346 17053\n"
     ]
    }
   ],
   "source": [
    "outputFile(visit_file_full,trainingNum_index,testNum_index,'full')\n",
    "\n",
    "print len(visit_file_full),np.sum(map(len,visit_file_full))\n",
    "print len(visit_file),np.sum(map(len,visit_file))"
   ]
  },
  {
   "cell_type": "code",
   "execution_count": 14,
   "metadata": {
    "collapsed": false
   },
   "outputs": [
    {
     "name": "stdout",
     "output_type": "stream",
     "text": [
      "[[[6, 23, 28, 186], [23, 196, 38, 45, 6, 33, 127, 162]], [[0, 6, 7, 10, 29, 73, 103, 259], [22, 29, 30, 59, 263, 0, 6, 10]]]\n",
      "[[[6, 23, 28], [6, 38, 23, 45, 33, 127, 162]], [[0, 6, 7, 10, 29, 73, 103], [30, 59, 0, 6, 10, 22, 29]]]\n",
      "[[39, 51, 2, 14, 23, 3, 131, 13], [55, 13, 3, 68, 9, 2, 85, 4, 14, 51, 44], [68, 51, 13, 39, 80, 33, 75, 73, 153, 85, 55, 14, 9, 3, 2]]\n",
      "[[51, 39, 13, 23, 131, 3, 14, 2], [44, 3, 85, 14, 51, 55, 2, 68, 9, 4, 13], [73, 68, 39, 33, 51, 153, 80, 14, 85, 55, 13, 9, 3, 75, 2]]\n",
      "[151454, 112748, 183791]\n"
     ]
    }
   ],
   "source": [
    "print visit_file_full[0:2]\n",
    "print visit_file[0:2]\n",
    "print visit_file_full[-1]\n",
    "print visit_file[-1]\n",
    "print admission_id[-1]"
   ]
  },
  {
   "cell_type": "code",
   "execution_count": 15,
   "metadata": {
    "collapsed": false
   },
   "outputs": [
    {
     "name": "stdout",
     "output_type": "stream",
     "text": [
      "0                      [7, 24, 29, 187]\n",
      "1    [24, 197, 39, 46, 7, 34, 128, 163]\n",
      "Name: icd9, dtype: object\n",
      "0                      [7, 24, 29]\n",
      "1    [7, 39, 24, 46, 34, 128, 163]\n",
      "Name: icd9, dtype: object\n",
      "       subject_id  hadm_id   admittime  \\\n",
      "17127       99982   151454  2156-11-28   \n",
      "17128       99982   112748  2157-01-05   \n",
      "17129       99982   183791  2157-02-16   \n",
      "\n",
      "                                         icd9_code  \\\n",
      "17127                       40,52,3,15,24,4,132,14   \n",
      "17128                56,14,4,69,10,3,86,5,15,52,45   \n",
      "17129  69,52,14,40,81,34,76,74,154,86,56,15,10,4,3   \n",
      "\n",
      "                                                    icd9  \n",
      "17127                    [40, 52, 3, 15, 24, 4, 132, 14]  \n",
      "17128          [56, 14, 4, 69, 10, 3, 86, 5, 15, 52, 45]  \n",
      "17129  [69, 52, 14, 40, 81, 34, 76, 74, 154, 86, 56, ...  \n",
      "       subject_id  hadm_id   admittime  \\\n",
      "17050       99982   151454  2156-11-28   \n",
      "17051       99982   112748  2157-01-05   \n",
      "17052       99982   183791  2157-02-16   \n",
      "\n",
      "                                         icd9_code            date  \\\n",
      "17050                       52,40,14,24,132,4,15,3  [2156, 11, 28]   \n",
      "17051                45,4,86,15,52,56,3,69,10,5,14    [2157, 1, 5]   \n",
      "17052  74,69,40,34,52,154,81,15,86,56,14,10,4,76,3   [2157, 2, 16]   \n",
      "\n",
      "                                                    icd9  deltatime  \n",
      "17050                    [52, 40, 14, 24, 132, 4, 15, 3]          0  \n",
      "17051          [45, 4, 86, 15, 52, 56, 3, 69, 10, 5, 14]         38  \n",
      "17052  [74, 69, 40, 34, 52, 154, 81, 15, 86, 56, 14, ...         42  \n"
     ]
    }
   ],
   "source": [
    "print data_full[0:2]['icd9']\n",
    "print data[0:2]['icd9']\n",
    "print data_full[data_full.shape[0]-3:]\n",
    "print data[data.shape[0]-3:]"
   ]
  },
  {
   "cell_type": "code",
   "execution_count": 16,
   "metadata": {
    "collapsed": false
   },
   "outputs": [
    {
     "name": "stdout",
     "output_type": "stream",
     "text": [
      "(17094, 5)\n"
     ]
    },
    {
     "data": {
      "text/html": [
       "<div>\n",
       "<table border=\"1\" class=\"dataframe\">\n",
       "  <thead>\n",
       "    <tr style=\"text-align: right;\">\n",
       "      <th></th>\n",
       "      <th>subject_id</th>\n",
       "      <th>hadm_id</th>\n",
       "      <th>admittime</th>\n",
       "      <th>icd9_code</th>\n",
       "      <th>icd9</th>\n",
       "    </tr>\n",
       "  </thead>\n",
       "  <tbody>\n",
       "    <tr>\n",
       "      <th>0</th>\n",
       "      <td>17</td>\n",
       "      <td>194023</td>\n",
       "      <td>2134-12-27</td>\n",
       "      <td>7,24,29,187</td>\n",
       "      <td>[7, 24, 29, 187]</td>\n",
       "    </tr>\n",
       "    <tr>\n",
       "      <th>1</th>\n",
       "      <td>17</td>\n",
       "      <td>161087</td>\n",
       "      <td>2135-05-09</td>\n",
       "      <td>24,197,39,46,7,34,128,163</td>\n",
       "      <td>[24, 197, 39, 46, 7, 34, 128, 163]</td>\n",
       "    </tr>\n",
       "    <tr>\n",
       "      <th>2</th>\n",
       "      <td>23</td>\n",
       "      <td>152223</td>\n",
       "      <td>2153-09-03</td>\n",
       "      <td>1,7,8,11,30,74,104</td>\n",
       "      <td>[1, 7, 8, 11, 30, 74, 104]</td>\n",
       "    </tr>\n",
       "    <tr>\n",
       "      <th>3</th>\n",
       "      <td>23</td>\n",
       "      <td>124321</td>\n",
       "      <td>2157-10-18</td>\n",
       "      <td>23,30,31,60,1,7,11</td>\n",
       "      <td>[23, 30, 31, 60, 1, 7, 11]</td>\n",
       "    </tr>\n",
       "    <tr>\n",
       "      <th>4</th>\n",
       "      <td>34</td>\n",
       "      <td>115799</td>\n",
       "      <td>2186-07-18</td>\n",
       "      <td>37,52,106,3,4,8,17,33</td>\n",
       "      <td>[37, 52, 106, 3, 4, 8, 17, 33]</td>\n",
       "    </tr>\n",
       "    <tr>\n",
       "      <th>5</th>\n",
       "      <td>34</td>\n",
       "      <td>144319</td>\n",
       "      <td>2191-02-23</td>\n",
       "      <td>3,4,8,14,21,106,141</td>\n",
       "      <td>[3, 4, 8, 14, 21, 106, 141]</td>\n",
       "    </tr>\n",
       "    <tr>\n",
       "      <th>6</th>\n",
       "      <td>36</td>\n",
       "      <td>182104</td>\n",
       "      <td>2131-04-30</td>\n",
       "      <td>1,8,15,18,27,32,74,104,154</td>\n",
       "      <td>[1, 8, 15, 18, 27, 32, 74, 104, 154]</td>\n",
       "    </tr>\n",
       "    <tr>\n",
       "      <th>7</th>\n",
       "      <td>36</td>\n",
       "      <td>122659</td>\n",
       "      <td>2131-05-12</td>\n",
       "      <td>1,8,11,15,18,19,26,27,74,78,124</td>\n",
       "      <td>[1, 8, 11, 15, 18, 19, 26, 27, 74, 78, 124]</td>\n",
       "    </tr>\n",
       "    <tr>\n",
       "      <th>8</th>\n",
       "      <td>36</td>\n",
       "      <td>165660</td>\n",
       "      <td>2134-05-10</td>\n",
       "      <td>1,8,9,18,27,28,33,49,74,114,124</td>\n",
       "      <td>[1, 8, 9, 18, 27, 28, 33, 49, 74, 114, 124]</td>\n",
       "    </tr>\n",
       "    <tr>\n",
       "      <th>9</th>\n",
       "      <td>68</td>\n",
       "      <td>170467</td>\n",
       "      <td>2173-12-15</td>\n",
       "      <td>3,5,6,10,12,28,52,89,111,149</td>\n",
       "      <td>[3, 5, 6, 10, 12, 28, 52, 89, 111, 149]</td>\n",
       "    </tr>\n",
       "  </tbody>\n",
       "</table>\n",
       "</div>"
      ],
      "text/plain": [
       "   subject_id  hadm_id   admittime                        icd9_code  \\\n",
       "0          17   194023  2134-12-27                      7,24,29,187   \n",
       "1          17   161087  2135-05-09        24,197,39,46,7,34,128,163   \n",
       "2          23   152223  2153-09-03               1,7,8,11,30,74,104   \n",
       "3          23   124321  2157-10-18               23,30,31,60,1,7,11   \n",
       "4          34   115799  2186-07-18            37,52,106,3,4,8,17,33   \n",
       "5          34   144319  2191-02-23              3,4,8,14,21,106,141   \n",
       "6          36   182104  2131-04-30       1,8,15,18,27,32,74,104,154   \n",
       "7          36   122659  2131-05-12  1,8,11,15,18,19,26,27,74,78,124   \n",
       "8          36   165660  2134-05-10  1,8,9,18,27,28,33,49,74,114,124   \n",
       "9          68   170467  2173-12-15     3,5,6,10,12,28,52,89,111,149   \n",
       "\n",
       "                                          icd9  \n",
       "0                             [7, 24, 29, 187]  \n",
       "1           [24, 197, 39, 46, 7, 34, 128, 163]  \n",
       "2                   [1, 7, 8, 11, 30, 74, 104]  \n",
       "3                   [23, 30, 31, 60, 1, 7, 11]  \n",
       "4               [37, 52, 106, 3, 4, 8, 17, 33]  \n",
       "5                  [3, 4, 8, 14, 21, 106, 141]  \n",
       "6         [1, 8, 15, 18, 27, 32, 74, 104, 154]  \n",
       "7  [1, 8, 11, 15, 18, 19, 26, 27, 74, 78, 124]  \n",
       "8  [1, 8, 9, 18, 27, 28, 33, 49, 74, 114, 124]  \n",
       "9      [3, 5, 6, 10, 12, 28, 52, 89, 111, 149]  "
      ]
     },
     "execution_count": 16,
     "metadata": {},
     "output_type": "execute_result"
    }
   ],
   "source": [
    "# visits with sub set of codes, 250\n",
    "data_250 = pd.read_csv('PATIENT_VISIT_250.csv',sep=',')\n",
    "data_250['icd9']=map(lambda x:map(int,x.split(',')),data_250.icd9_code)\n",
    "print data_250.shape\n",
    "data_250.head(10)"
   ]
  },
  {
   "cell_type": "code",
   "execution_count": 17,
   "metadata": {
    "collapsed": false
   },
   "outputs": [
    {
     "name": "stdout",
     "output_type": "stream",
     "text": [
      "6346 17053\n",
      "6346 17053\n"
     ]
    }
   ],
   "source": [
    "visit_file_250 = getVisitFile(data_250,admission_id)\n",
    "outputFile(visit_file_250,trainingNum_index,testNum_index,'250')\n",
    "\n",
    "print len(visit_file_250),np.sum(map(len,visit_file_250))\n",
    "print len(visit_file),np.sum(map(len,visit_file))"
   ]
  },
  {
   "cell_type": "code",
   "execution_count": 42,
   "metadata": {
    "collapsed": false
   },
   "outputs": [
    {
     "name": "stdout",
     "output_type": "stream",
     "text": [
      "(16535, 3)\n",
      "(16535,)\n",
      "50\n"
     ]
    }
   ],
   "source": [
    "############### extract topics ###############\n",
    "note_file = open('../data/note_topic_50','rb')\n",
    "note_topic = pickle.load(note_file)\n",
    "note_file.close()\n",
    "print note_topic.shape\n",
    "note_topic.head(10)\n",
    "print note_topic['topics'].shape\n",
    "print len(note_topic['topics'][0])"
   ]
  },
  {
   "cell_type": "code",
   "execution_count": 20,
   "metadata": {
    "collapsed": true
   },
   "outputs": [],
   "source": [
    "# get topic file according to admission_id\n",
    "def getTopicFile(data,admission_id,column = 'topics'):\n",
    "    info_dict = {}\n",
    "    \n",
    "    for i in range(data.shape[0]):\n",
    "        info_dict[data.loc[i,'hadm_id']] = data.loc[i,column]\n",
    "    \n",
    "    visit_file = []\n",
    "    p_id = 0\n",
    "    v_id = 0\n",
    "    \n",
    "    n_feature = len(data.loc[0,column])\n",
    "    while p_id < len(admission_id):\n",
    "        if v_id == 0:\n",
    "            info = [list(np.zeros(n_feature))]\n",
    "            if admission_id[p_id][v_id] in info_dict.keys():\n",
    "                info = [list(info_dict[admission_id[p_id][v_id]])]\n",
    "        elif admission_id[p_id][v_id] in info_dict.keys():\n",
    "            info.append(list(info_dict[admission_id[p_id][v_id]]))\n",
    "        else:\n",
    "            info.append(list(np.zeros(n_feature)))\n",
    "\n",
    "        if v_id == len(admission_id[p_id])-1:\n",
    "            p_id += 1\n",
    "            v_id = 0\n",
    "            visit_file.append(info)\n",
    "        else:\n",
    "            v_id += 1\n",
    "    return visit_file"
   ]
  },
  {
   "cell_type": "code",
   "execution_count": 43,
   "metadata": {
    "collapsed": false
   },
   "outputs": [
    {
     "name": "stdout",
     "output_type": "stream",
     "text": [
      "6346 17053\n"
     ]
    }
   ],
   "source": [
    "topic_file = getTopicFile(note_topic,admission_id,column = 'topics')\n",
    "\n",
    "def roundTo(l,digit=4):\n",
    "    return map(lambda x:np.round(x,digit),l)\n",
    "\n",
    "topic_file = map(lambda l:roundTo(l,6),topic_file)\n",
    "print len(topic_file),np.sum(map(len,topic_file))"
   ]
  },
  {
   "cell_type": "code",
   "execution_count": null,
   "metadata": {
    "collapsed": false
   },
   "outputs": [],
   "source": [
    "info_dict1 = {}\n",
    "    \n",
    "for i in range(note_topic.shape[0]):\n",
    "    info_dict1[note_topic.loc[i,'hadm_id']] = note_topic.loc[i,'topics']\n",
    "print admission_id[0]\n",
    "print info_dict1[194023],info_dict1[161087]"
   ]
  },
  {
   "cell_type": "code",
   "execution_count": 44,
   "metadata": {
    "collapsed": true
   },
   "outputs": [],
   "source": [
    "file_name = open('../data/visit_file_topic_'+\\\n",
    "                 str(len(note_topic['topics'][0])),'wr')\n",
    "pickle.dump(topic_file,file_name)\n",
    "file_name.close()"
   ]
  },
  {
   "cell_type": "code",
   "execution_count": 45,
   "metadata": {
    "collapsed": true
   },
   "outputs": [],
   "source": [
    "outputFile(topic_file,trainingNum_index,testNum_index,\\\n",
    "           'topic_'+str(len(note_topic['topics'][0])))"
   ]
  },
  {
   "cell_type": "code",
   "execution_count": 18,
   "metadata": {
    "collapsed": false
   },
   "outputs": [
    {
     "name": "stdout",
     "output_type": "stream",
     "text": [
      "(16535, 3)\n"
     ]
    },
    {
     "data": {
      "text/html": [
       "<div>\n",
       "<table border=\"1\" class=\"dataframe\">\n",
       "  <thead>\n",
       "    <tr style=\"text-align: right;\">\n",
       "      <th></th>\n",
       "      <th>subject_id</th>\n",
       "      <th>hadm_id</th>\n",
       "      <th>tfidf</th>\n",
       "    </tr>\n",
       "  </thead>\n",
       "  <tbody>\n",
       "    <tr>\n",
       "      <th>0</th>\n",
       "      <td>17</td>\n",
       "      <td>161087</td>\n",
       "      <td>[0.0, 0.0, 0.0, 0.0, 0.0436881153699, 0.0, 0.0...</td>\n",
       "    </tr>\n",
       "    <tr>\n",
       "      <th>1</th>\n",
       "      <td>17</td>\n",
       "      <td>194023</td>\n",
       "      <td>[0.0, 0.0, 0.0, 0.0, 0.0, 0.0, 0.0, 0.0, 0.0, ...</td>\n",
       "    </tr>\n",
       "    <tr>\n",
       "      <th>2</th>\n",
       "      <td>23</td>\n",
       "      <td>124321</td>\n",
       "      <td>[0.0, 0.0, 0.0, 0.0, 0.0, 0.0, 0.0, 0.13663147...</td>\n",
       "    </tr>\n",
       "    <tr>\n",
       "      <th>3</th>\n",
       "      <td>23</td>\n",
       "      <td>152223</td>\n",
       "      <td>[0.0, 0.0, 0.0507781306469, 0.0, 0.0, 0.0, 0.0...</td>\n",
       "    </tr>\n",
       "    <tr>\n",
       "      <th>4</th>\n",
       "      <td>34</td>\n",
       "      <td>144319</td>\n",
       "      <td>[0.0243910398496, 0.0, 0.0, 0.0, 0.0, 0.0, 0.0...</td>\n",
       "    </tr>\n",
       "    <tr>\n",
       "      <th>5</th>\n",
       "      <td>36</td>\n",
       "      <td>122659</td>\n",
       "      <td>[0.0, 0.0225939824345, 0.0, 0.0334990562314, 0...</td>\n",
       "    </tr>\n",
       "    <tr>\n",
       "      <th>6</th>\n",
       "      <td>36</td>\n",
       "      <td>165660</td>\n",
       "      <td>[0.0167555562311, 0.0, 0.0, 0.0245915396108, 0...</td>\n",
       "    </tr>\n",
       "    <tr>\n",
       "      <th>7</th>\n",
       "      <td>36</td>\n",
       "      <td>182104</td>\n",
       "      <td>[0.0, 0.0, 0.0, 0.0, 0.0, 0.0156882044791, 0.0...</td>\n",
       "    </tr>\n",
       "    <tr>\n",
       "      <th>8</th>\n",
       "      <td>68</td>\n",
       "      <td>108329</td>\n",
       "      <td>[0.0, 0.0, 0.0, 0.0, 0.0, 0.0359316242092, 0.0...</td>\n",
       "    </tr>\n",
       "    <tr>\n",
       "      <th>9</th>\n",
       "      <td>68</td>\n",
       "      <td>170467</td>\n",
       "      <td>[0.0, 0.0, 0.0, 0.0, 0.0, 0.0, 0.0, 0.0, 0.0, ...</td>\n",
       "    </tr>\n",
       "  </tbody>\n",
       "</table>\n",
       "</div>"
      ],
      "text/plain": [
       "   subject_id  hadm_id                                              tfidf\n",
       "0          17   161087  [0.0, 0.0, 0.0, 0.0, 0.0436881153699, 0.0, 0.0...\n",
       "1          17   194023  [0.0, 0.0, 0.0, 0.0, 0.0, 0.0, 0.0, 0.0, 0.0, ...\n",
       "2          23   124321  [0.0, 0.0, 0.0, 0.0, 0.0, 0.0, 0.0, 0.13663147...\n",
       "3          23   152223  [0.0, 0.0, 0.0507781306469, 0.0, 0.0, 0.0, 0.0...\n",
       "4          34   144319  [0.0243910398496, 0.0, 0.0, 0.0, 0.0, 0.0, 0.0...\n",
       "5          36   122659  [0.0, 0.0225939824345, 0.0, 0.0334990562314, 0...\n",
       "6          36   165660  [0.0167555562311, 0.0, 0.0, 0.0245915396108, 0...\n",
       "7          36   182104  [0.0, 0.0, 0.0, 0.0, 0.0, 0.0156882044791, 0.0...\n",
       "8          68   108329  [0.0, 0.0, 0.0, 0.0, 0.0, 0.0359316242092, 0.0...\n",
       "9          68   170467  [0.0, 0.0, 0.0, 0.0, 0.0, 0.0, 0.0, 0.0, 0.0, ..."
      ]
     },
     "execution_count": 18,
     "metadata": {},
     "output_type": "execute_result"
    }
   ],
   "source": [
    "############### extract tfidf ###############\n",
    "note_file = open('../data/note_tfidf_800','rb')\n",
    "note_tfidf = pickle.load(note_file)\n",
    "note_file.close()\n",
    "print note_tfidf.shape\n",
    "note_tfidf.head(10)"
   ]
  },
  {
   "cell_type": "code",
   "execution_count": 22,
   "metadata": {
    "collapsed": false
   },
   "outputs": [
    {
     "name": "stdout",
     "output_type": "stream",
     "text": [
      "6346 17053\n"
     ]
    }
   ],
   "source": [
    "tfidf_file = getTopicFile(note_tfidf,admission_id,column = 'tfidf')\n",
    "def roundTo(l,digit=4):\n",
    "    return map(lambda x:np.round(x,digit),l)\n",
    "\n",
    "tfidf_file = map(lambda l:roundTo(l,6),tfidf_file)\n",
    "\n",
    "print len(tfidf_file),np.sum(map(len,tfidf_file))"
   ]
  },
  {
   "cell_type": "code",
   "execution_count": 23,
   "metadata": {
    "collapsed": true
   },
   "outputs": [],
   "source": [
    "file_name = open('../data/visit_file_tfidf_'+\\\n",
    "                 str(len(note_tfidf['tfidf'][0])),'wr')\n",
    "pickle.dump(tfidf_file,file_name)\n",
    "file_name.close()\n",
    "\n",
    "outputFile(tfidf_file,trainingNum_index,testNum_index,\\\n",
    "           'tfidf_'+str(len(note_tfidf['tfidf'][0])))"
   ]
  },
  {
   "cell_type": "code",
   "execution_count": null,
   "metadata": {
    "collapsed": true
   },
   "outputs": [],
   "source": []
  }
 ],
 "metadata": {
  "kernelspec": {
   "display_name": "Python 2",
   "language": "python",
   "name": "python2"
  },
  "language_info": {
   "codemirror_mode": {
    "name": "ipython",
    "version": 2
   },
   "file_extension": ".py",
   "mimetype": "text/x-python",
   "name": "python",
   "nbconvert_exporter": "python",
   "pygments_lexer": "ipython2",
   "version": "2.7.12"
  }
 },
 "nbformat": 4,
 "nbformat_minor": 1
}
