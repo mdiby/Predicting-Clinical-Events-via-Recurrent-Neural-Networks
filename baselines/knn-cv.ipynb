{
 "cells": [
  {
   "cell_type": "code",
   "execution_count": 1,
   "metadata": {
    "collapsed": true
   },
   "outputs": [],
   "source": [
    "import numpy as np\n",
    "import cPickle as pickle\n",
    "from itertools import groupby\n",
    "import random as random\n",
    "import matplotlib.pyplot as plt\n",
    "%matplotlib inline\n",
    "\n",
    "from knn_functions import *"
   ]
  },
  {
   "cell_type": "code",
   "execution_count": 2,
   "metadata": {
    "collapsed": false
   },
   "outputs": [
    {
     "name": "stdout",
     "output_type": "stream",
     "text": [
      "5076 1270\n"
     ]
    }
   ],
   "source": [
    "# load data\n",
    "training_data = pickle.load(open('visit_182','rb'))\n",
    "test_data = pickle.load(open('test_182','rb'))\n",
    "# ground truth, the last element of list \n",
    "label = map(lambda x:x[-1],test_data)\n",
    "\n",
    "print len(training_data),len(test_data)"
   ]
  },
  {
   "cell_type": "code",
   "execution_count": 3,
   "metadata": {
    "collapsed": false
   },
   "outputs": [
    {
     "name": "stdout",
     "output_type": "stream",
     "text": [
      "[(0, 1270), (1270, 2540), (2540, 3810), (3810, 5076)]\n"
     ]
    }
   ],
   "source": [
    "# cross validation\n",
    "K_FOLD = 4\n",
    "\n",
    "SAMPLE_SIZE = len(training_data)\n",
    "FOLD_SIZE = SAMPLE_SIZE / K_FOLD + 1\n",
    "random.seed(10000)\n",
    "random_index = random.sample(range(SAMPLE_SIZE),SAMPLE_SIZE)\n",
    "index_range = [(i*FOLD_SIZE, min((i+1)*FOLD_SIZE,SAMPLE_SIZE)) for i in range(K_FOLD)]\n",
    "print index_range"
   ]
  },
  {
   "cell_type": "code",
   "execution_count": 4,
   "metadata": {
    "collapsed": false
   },
   "outputs": [],
   "source": [
    "def CV(data,index_range,knn_set,top_k_set):\n",
    "    k_fold = len(index_range)\n",
    "    max_knn = max(knn_set)\n",
    "    accuracy_CV = []\n",
    "    for k in range(k_fold):\n",
    "        print 'process %d th fold CV' % k\n",
    "        index = index_range[k]\n",
    "        train = data[:index[0]] + data[index[1]:]\n",
    "        valid = data[index[0]:index[1]]\n",
    "        sample_size = len(train)\n",
    "        \n",
    "        valid_label = map(lambda x:x[-1],valid)\n",
    "        \n",
    "        neighbor_index = getNeighbors(valid,train,max_knn)\n",
    "        \n",
    "        for knn in knn_set:\n",
    "            print '%d nearest neighbors' % knn\n",
    "            prediction = getPrediction(train,neighbor_index[:,:knn])\n",
    "            for top_k in top_k_set:\n",
    "                top_k_prediction = getTopK(prediction,top_k)\n",
    "                acc = getAccuracy(top_k_prediction,valid_label)\n",
    "                accuracy_CV.append([k,knn,top_k,np.mean(acc),np.std(acc)])\n",
    "    return accuracy_CV"
   ]
  },
  {
   "cell_type": "code",
   "execution_count": 5,
   "metadata": {
    "collapsed": false
   },
   "outputs": [
    {
     "name": "stdout",
     "output_type": "stream",
     "text": [
      "process 0 th fold CV\n",
      "20 nearest neighbors\n",
      "30 nearest neighbors\n",
      "40 nearest neighbors\n",
      "50 nearest neighbors\n",
      "process 1 th fold CV\n",
      "20 nearest neighbors\n",
      "30 nearest neighbors\n",
      "40 nearest neighbors\n",
      "50 nearest neighbors\n",
      "process 2 th fold CV\n",
      "20 nearest neighbors\n",
      "30 nearest neighbors\n",
      "40 nearest neighbors\n",
      "50 nearest neighbors\n",
      "process 3 th fold CV\n",
      "20 nearest neighbors\n",
      "30 nearest neighbors\n",
      "40 nearest neighbors\n",
      "50 nearest neighbors\n"
     ]
    }
   ],
   "source": [
    "# parameters \n",
    "KNN = [20,30,40,50] # K nearest neighbors\n",
    "TOP_K = [10,20,30] # prediction on TOP_K codes\n",
    "\n",
    "accuracy_CV = CV(training_data,index_range,KNN,TOP_K)"
   ]
  },
  {
   "cell_type": "code",
   "execution_count": 6,
   "metadata": {
    "collapsed": false
   },
   "outputs": [],
   "source": [
    "accuracy_CV = np.asarray(accuracy_CV)\n",
    "accuracy_result = {}\n",
    "for acc in accuracy_CV:\n",
    "    knn,top_k = acc[1:3]\n",
    "    if (knn,top_k) in accuracy_result.keys():\n",
    "        accuracy_result[(knn,top_k)] = np.add(accuracy_result[(knn,top_k)],acc[3:])\n",
    "    else:\n",
    "        accuracy_result[(knn,top_k)] = acc[3:]\n",
    "accuracy_result = np.asarray(accuracy_result.items())\n",
    "accuracy_result[:,1] = accuracy_result[:,1]/K_FOLD"
   ]
  },
  {
   "cell_type": "code",
   "execution_count": 7,
   "metadata": {
    "collapsed": false
   },
   "outputs": [
    {
     "name": "stdout",
     "output_type": "stream",
     "text": [
      "[array([[ 20.        ,  10.        ],\n",
      "       [  0.38111156,   0.17762095]]), array([[ 20.        ,  20.        ],\n",
      "       [  0.53154085,   0.18500657]]), array([[ 20.        ,  30.        ],\n",
      "       [  0.62636567,   0.17953687]]), array([[ 30.        ,  10.        ],\n",
      "       [  0.38243024,   0.1775758 ]]), array([[ 30.        ,  20.        ],\n",
      "       [  0.53771719,   0.18354634]]), array([[ 30.        ,  30.        ],\n",
      "       [  0.63478873,   0.17744267]]), array([[ 40.        ,  10.        ],\n",
      "       [  0.38326788,   0.1769825 ]]), array([[ 40.        ,  20.        ],\n",
      "       [  0.5405609 ,   0.18474115]]), array([[ 40.        ,  30.        ],\n",
      "       [  0.63797577,   0.17819837]]), array([[ 50.        ,  10.        ],\n",
      "       [  0.38176919,   0.17655954]]), array([[ 50.        ,  20.        ],\n",
      "       [  0.54171335,   0.18554043]]), array([[ 50.        ,  30.        ],\n",
      "       [  0.63768278,   0.17900831]])]\n"
     ]
    }
   ],
   "source": [
    "print sorted(accuracy_result,key=lambda x:(x[0,0],x[0,1]))"
   ]
  },
  {
   "cell_type": "code",
   "execution_count": null,
   "metadata": {
    "collapsed": true
   },
   "outputs": [],
   "source": []
  }
 ],
 "metadata": {
  "kernelspec": {
   "display_name": "Python 2",
   "language": "python",
   "name": "python2"
  },
  "language_info": {
   "codemirror_mode": {
    "name": "ipython",
    "version": 2
   },
   "file_extension": ".py",
   "mimetype": "text/x-python",
   "name": "python",
   "nbconvert_exporter": "python",
   "pygments_lexer": "ipython2",
   "version": "2.7.12"
  }
 },
 "nbformat": 4,
 "nbformat_minor": 1
}
