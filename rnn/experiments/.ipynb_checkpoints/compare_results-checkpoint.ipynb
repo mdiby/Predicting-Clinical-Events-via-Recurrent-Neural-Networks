{
 "cells": [
  {
   "cell_type": "code",
   "execution_count": 2,
   "metadata": {
    "collapsed": true
   },
   "outputs": [],
   "source": [
    "import numpy as np\n",
    "import cPickle as pickle\n",
    "\n",
    "import matplotlib.pyplot as plt\n",
    "%matplotlib inline"
   ]
  },
  {
   "cell_type": "code",
   "execution_count": 12,
   "metadata": {
    "collapsed": false
   },
   "outputs": [
    {
     "name": "stdout",
     "output_type": "stream",
     "text": [
      "recall1\n",
      "[ 0.3783  0.5321  0.6143]\n",
      "recall2\n",
      "[ 0.4182  0.5815  0.682 ]\n",
      "recall3\n",
      "[ 0.4044  0.5631  0.6522]\n",
      "recall4\n",
      "[ 0.4184  0.5792  0.6756]\n",
      "recall5\n",
      "[ 0.4204  0.5831  0.6746]\n",
      "recall6\n",
      "[ 0.4217  0.5859  0.6787]\n",
      "recall7\n",
      "[ 0.4245  0.581   0.6786]\n",
      "recall8\n",
      "[ 0.4139  0.5768  0.6688]\n",
      "recall9\n",
      "[ 0.4189  0.5758  0.6757]\n",
      "recall10\n",
      "[ 0.4189  0.5753  0.6758]\n",
      "recall11\n",
      "[ 0.4197  0.5822  0.679 ]\n",
      "recall12\n",
      "[ 0.4141  0.5803  0.676 ]\n",
      "recall13\n",
      "[ 0.4211  0.5811  0.6808]\n",
      "recall14\n",
      "[ 0.4167  0.5816  0.6775]\n",
      "recall15\n",
      "[ 0.4112  0.5765  0.6727]\n"
     ]
    }
   ],
   "source": [
    "n_experiments = 15\n",
    "\n",
    "for n in range(n_experiments):\n",
    "    f = 'recall'+str(n+1)\n",
    "    print f\n",
    "    result = pickle.load(open(f,'rb'))\n",
    "    print np.round(result,4)"
   ]
  },
  {
   "cell_type": "code",
   "execution_count": null,
   "metadata": {
    "collapsed": true
   },
   "outputs": [],
   "source": []
  }
 ],
 "metadata": {
  "kernelspec": {
   "display_name": "Python 2",
   "language": "python",
   "name": "python2"
  },
  "language_info": {
   "codemirror_mode": {
    "name": "ipython",
    "version": 2
   },
   "file_extension": ".py",
   "mimetype": "text/x-python",
   "name": "python",
   "nbconvert_exporter": "python",
   "pygments_lexer": "ipython2",
   "version": "2.7.12"
  }
 },
 "nbformat": 4,
 "nbformat_minor": 1
}
