{
 "cells": [
  {
   "cell_type": "code",
   "execution_count": 1,
   "metadata": {
    "collapsed": true
   },
   "outputs": [],
   "source": [
    "import numpy as np\n",
    "import cPickle as pickle\n",
    "\n",
    "import matplotlib.pyplot as plt\n",
    "%matplotlib inline"
   ]
  },
  {
   "cell_type": "code",
   "execution_count": 21,
   "metadata": {
    "collapsed": false
   },
   "outputs": [
    {
     "name": "stdout",
     "output_type": "stream",
     "text": [
      "recall1_f1 recall1_f2\n",
      "[ 0.40940013  0.57361302  0.66965049]\n",
      "recall2_f1 recall2_f2\n",
      "[ 0.40933132  0.56991461  0.666861  ]\n",
      "recall3_f1 recall3_f2\n",
      "[ 0.41563026  0.57786883  0.67550176]\n",
      "recall4_f1 recall4_f2\n",
      "[ 0.41787082  0.58155358  0.67875478]\n",
      "recall5_f1 recall5_f2\n",
      "[ 0.33059932  0.48970574  0.59739939]\n",
      "recall6_f1 recall6_f2\n",
      "[ 0.38051315  0.53443541  0.63156808]\n",
      "recall7_f1 recall7_f2\n",
      "[ 0.31451298  0.46883457  0.57512468]\n",
      "recall8_f1 recall8_f2\n",
      "[ 0.42759637  0.59342839  0.68566545]\n"
     ]
    }
   ],
   "source": [
    "n_experiments = 8\n",
    "files = []\n",
    "for n in range(n_experiments):\n",
    "    files.append('recall'+str(n+1)+'_f1')\n",
    "    files.append('recall'+str(n+1)+'_f2')\n",
    "    \n",
    "results = []\n",
    "for n in range(n_experiments):\n",
    "    f1 = 'recall'+str(n+1)+'_f1'\n",
    "    f2 = 'recall'+str(n+1)+'_f2'\n",
    "    print f1,f2\n",
    "    result1 = pickle.load(open(f1,'rb'))\n",
    "    result2 = pickle.load(open(f2,'rb'))\n",
    "    print (np.asarray(result1)+np.asarray(result2))/2"
   ]
  },
  {
   "cell_type": "code",
   "execution_count": null,
   "metadata": {
    "collapsed": true
   },
   "outputs": [],
   "source": []
  }
 ],
 "metadata": {
  "kernelspec": {
   "display_name": "Python 2",
   "language": "python",
   "name": "python2"
  },
  "language_info": {
   "codemirror_mode": {
    "name": "ipython",
    "version": 2
   },
   "file_extension": ".py",
   "mimetype": "text/x-python",
   "name": "python",
   "nbconvert_exporter": "python",
   "pygments_lexer": "ipython2",
   "version": "2.7.12"
  }
 },
 "nbformat": 4,
 "nbformat_minor": 1
}
